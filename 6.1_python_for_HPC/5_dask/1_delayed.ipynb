{
 "cells": [
  {
   "cell_type": "markdown",
   "metadata": {},
   "source": [
    "# Dask Delayed for Parallel File Processing"
   ]
  },
  {
   "cell_type": "markdown",
   "metadata": {},
   "source": [
    "This notebook demonstrates how to use `dask.delayed` to parallelize the processing of multiple files. `dask.delayed` is a simple and powerful way to create task graphs for custom algorithms."
   ]
  },
  {
   "cell_type": "code",
   "execution_count": null,
   "metadata": {},
   "outputs": [],
   "source": [
    "import dask\n",
    "import time\n",
    "import os"
   ]
  },
  {
   "cell_type": "markdown",
   "metadata": {},
   "source": [
    "## 1. Create Dummy Data Files"
   ]
  },
  {
   "cell_type": "code",
   "execution_count": null,
   "metadata": {},
   "outputs": [],
   "source": [
    "os.makedirs('temp_data', exist_ok=True)\n",
    "for i in range(5):\n",
    "    with open(f'temp_data/file_{i}.txt', 'w') as f:\n",
    "        f.write('dask is a flexible library for parallel computing in Python.' * (i + 1))"
   ]
  },
  {
   "cell_type": "markdown",
   "metadata": {},
   "source": [
    "## 2. Define a Function to Process a Single File"
   ]
  },
  {
   "cell_type": "code",
   "execution_count": null,
   "metadata": {},
   "outputs": [],
   "source": [
    "def process_file(filename):\n",
    "    \"\"\"Reads a file, counts the words, and simulates some work by sleeping.\"\"\"\n",
    "    print(f\"Processing {filename}...\")\n",
    "    with open(filename, 'r') as f:\n",
    "        content = f.read()\n",
    "    word_count = len(content.split())\n",
    "    time.sleep(1)  # Simulate I/O or CPU intensive work\n",
    "    print(f\"Finished processing {filename}.\")\n",
    "    return word_count"
   ]
  },
  {
   "cell_type": "markdown",
   "metadata": {},
   "source": [
    "## 3. Use `dask.delayed` to Parallelize"
   ]
  },
  {
   "cell_type": "code",
   "execution_count": null,
   "metadata": {},
   "outputs": [],
   "source": [
    "filenames = [f'temp_data/file_{i}.txt' for i in range(5)]\n",
    "\n",
    "# Create a list of delayed objects\n",
    "delayed_results = [dask.delayed(process_file)(fn) for fn in filenames]\n",
    "\n",
    "# Compute the results in parallel\n",
    "total_word_count = dask.compute(*delayed_results)"
   ]
  },
  {
   "cell_type": "code",
   "execution_count": null,
   "metadata": {},
   "outputs": [],
   "source": [
    "print(f\"Total word count: {sum(total_word_count)}\")"
   ]
  },
  {
   "cell_type": "markdown",
   "metadata": {},
   "source": [
    "## 4. Visualize the Task Graph"
   ]
  },
  {
   "cell_type": "code",
   "execution_count": null,
   "metadata": {},
   "outputs": [],
   "source": [
    "# To visualize the graph, you need to have graphviz installed.\n",
    "# You can install it with: conda install python-graphviz\n",
    "total = dask.delayed(sum)(delayed_results)\n",
    "total.visualize()"
   ]
  },
  {
   "cell_type": "markdown",
   "metadata": {},
   "source": [
    "## 5. Clean up the dummy data"
   ]
  },
  {
   "cell_type": "code",
   "execution_count": null,
   "metadata": {},
   "outputs": [],
   "source": [
    "import shutil\n",
    "shutil.rmtree('temp_data')"
   ]
  }
 ],
 "metadata": {
  "kernelspec": {
   "display_name": "pythonhpc",
   "language": "python",
   "name": "python3"
  },
  "language_info": {
   "codemirror_mode": {
    "name": "ipython",
    "version": 3
   },
   "file_extension": ".py",
   "mimetype": "text/x-python",
   "name": "python",
   "nbconvert_exporter": "python",
   "pygments_lexer": "ipython3",
   "version": "3.12.11"
  }
 },
 "nbformat": 4,
 "nbformat_minor": 4
}
