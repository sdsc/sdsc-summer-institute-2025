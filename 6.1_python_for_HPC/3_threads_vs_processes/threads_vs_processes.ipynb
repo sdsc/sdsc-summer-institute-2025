{
 "cells": [
  {
   "cell_type": "markdown",
   "id": "cd647da1",
   "metadata": {},
   "source": [
    "## Threads vs Processes in Python HPC with Dask and the GIL\n",
    "\n",
    "---\n",
    "\n",
    "## 1. Threads vs Processes\n",
    "\n",
    "### Schematic Diagram\n",
    "\n",
    "```\n",
    "+-----------------------------------------------------+\n",
    "|                    Single Process                   |\n",
    "| +--------+   +--------+   +--------+   +--------+   |\n",
    "| | Thread |   | Thread |   | Thread |   | Thread |   |\n",
    "| |   1    |   |   2    |   |   3    |   |   4    |   |\n",
    "| +--------+   +--------+   +--------+   +--------+   |\n",
    "+-----------------------------------------------------+\n",
    "\n",
    "vs.\n",
    "\n",
    "+---------+   +---------+   +---------+   +---------+\n",
    "| Process |   | Process |   | Process |   | Process |\n",
    "|    A    |   |    B    |   |    C    |   |    D    |\n",
    "| +-----+ |   | +-----+ |   | +-----+ |   | +-----+ |\n",
    "| |Thr  | |   | |Thr  | |   | |Thr  | |   | |Thr  | |\n",
    "| | 1   | |   | | 1   | |   | | 1   | |   | | 1   | |\n",
    "| +-----+ |   | +-----+ |   | +-----+ |   | +-----+ |\n",
    "+---------+   +---------+   +---------+   +---------+\n",
    "```\n",
    "\n",
    "### Threads\n",
    "\n",
    "- Run inside the same program and share memory, allowing fast communication without copying data.\n",
    "- Limited by the GIL for pure-Python work: only one thread runs Python code at a time.\n",
    "\n",
    "### Processes\n",
    "\n",
    "- Run as separate programs with independent memory spaces, each with its own Python interpreter and GIL.\n",
    "- Can execute CPU-bound Python code in parallel across cores, at the cost of serializing data between processes.\n",
    "\n",
    "---\n",
    "\n",
    "## 2. What Is the Python GIL?\n",
    "\n",
    "The Global Interpreter Lock (GIL) is a simple lock inside CPython that ensures only one thread executes Python bytecode at any moment. It exists because Python’s internal memory management is not safe for concurrent thread modifications without this guard.\n",
    "\n",
    "- **Effect on CPU-bound code**: Threads cannot leverage multiple cores for pure-Python computations.\n",
    "- **Libraries written in C** (e.g., NumPy) often release the GIL for heavy computations, allowing multi-threaded speedups.\n",
    "\n",
    "---\n",
    "\n",
    "## 3. Dask’s Single-Machine Schedulers\n",
    "\n",
    "Dask lets you choose between threads and processes for running tasks on one machine:\n",
    "\n",
    "- **Threaded scheduler** (`processes=False`): uses multiple threads in a single process. Ideal for I/O-bound or GIL-releasing operations.\n",
    "- **Process scheduler** (`processes=True`): uses multiple processes. Best for CPU-bound pure-Python functions to achieve true parallelism.\n",
    "\n",
    "---\n",
    "\n",
    "## 4. Example: CPU-Bound Task\n",
    "\n",
    "Compute the 30th Fibonacci number recursively four times, comparing runtimes."
   ]
  },
  {
   "cell_type": "code",
   "execution_count": null,
   "id": "f4827b9d",
   "metadata": {},
   "outputs": [],
   "source": [
    "import os\n",
    "n_tasks = os.cpu_count()\n",
    "print(f'Number of CPU cores: {n_tasks}')"
   ]
  },
  {
   "cell_type": "code",
   "execution_count": null,
   "id": "244112f8",
   "metadata": {},
   "outputs": [],
   "source": [
    "# A pure-Python CPU-heavy function\n",
    "def fib(n):\n",
    "    if n < 2:\n",
    "        return n\n",
    "    return fib(n - 1) + fib(n - 2)\n",
    "\n",
    "import time\n",
    "import dask\n",
    "from dask import delayed\n",
    "\n",
    "# Create a number of delayed tasks equal to the number of CPU cores\n",
    "tasks = [delayed(fib)(30) for _ in range(n_tasks)]\n",
    "\n",
    "# Threaded scheduler\n",
    "t0 = time.time()\n",
    "dask.compute(*tasks, scheduler='threads', num_workers=n_tasks)\n",
    "print(\"Threaded time:\", time.time() - t0)\n",
    "\n",
    "# Process scheduler\n",
    "t1 = time.time()\n",
    "dask.compute(*tasks, scheduler='processes', num_workers=n_tasks)\n",
    "print(\"Process time:\", time.time() - t1);"
   ]
  },
  {
   "cell_type": "markdown",
   "id": "e973a481",
   "metadata": {},
   "source": [
    "### Which Should Be Faster and Why?\n",
    "\n",
    "For this **CPU-bound** task, the **process scheduler should be significantly faster**.\n",
    "\n",
    "*   **Process Scheduler (`scheduler='processes'`):** Each task runs in a separate process with its own Python interpreter and GIL. This allows Dask to execute the `fib` computations in true parallel on multiple CPU cores. The total time should be roughly the time it takes to run one task.\n",
    "*   **Threaded Scheduler (`scheduler='threads'`):** All tasks run in threads within a single process. Because the `fib` function is pure Python code, the Global Interpreter Lock (GIL) prevents threads from running in parallel. The tasks will execute serially, one after another. The total time will be approximately the sum of the time for all tasks.\n",
    "\n",
    "**Note:** If you see the threaded scheduler being faster, it might be due to a low core count on your machine or high process creation overhead in your specific environment."
   ]
  },
  {
   "cell_type": "markdown",
   "id": "dd5bdf84",
   "metadata": {},
   "source": [
    "---\n",
    "\n",
    "## 5. Example: I/O-Bound Task\n",
    "\n",
    "Simulate waiting by sleeping, which releases the GIL."
   ]
  },
  {
   "cell_type": "code",
   "execution_count": null,
   "id": "a0c8ae88",
   "metadata": {},
   "outputs": [],
   "source": [
    "import time\n",
    "import dask\n",
    "from dask import delayed\n",
    "\n",
    "def sleepy(sec):\n",
    "    time.sleep(sec)\n",
    "    return sec\n",
    "\n",
    "# Create a number of delayed I/O tasks equal to the number of CPU cores\n",
    "tasks_io = [delayed(sleepy)(1) for _ in range(n_tasks)]\n",
    "\n",
    "# Threaded scheduler (runs ~1s)\n",
    "t0 = time.time()\n",
    "dask.compute(*tasks_io, scheduler='threads', num_workers=n_tasks)\n",
    "print(\"Threaded I/O time:\", time.time() - t0)\n",
    "\n",
    "# Process scheduler (extra overhead)\n",
    "t1 = time.time()\n",
    "dask.compute(*tasks_io, scheduler='processes', num_workers=n_tasks)\n",
    "print(\"Process time:\", time.time() - t1)"
   ]
  },
  {
   "cell_type": "markdown",
   "id": "c19baa05",
   "metadata": {},
   "source": [
    "### Which Should Be Faster and Why?\n",
    "\n",
    "For this **I/O-bound** task, the **threaded scheduler should be faster**.\n",
    "\n",
    "*   **Threaded Scheduler (`scheduler='threads'`):** The `time.sleep()` function releases the GIL, which allows other threads to run. All tasks can \"sleep\" concurrently, so the total time should be about 1 second (the duration of the longest task) plus a small amount of overhead.\n",
    "*   **Process Scheduler (`scheduler='processes'`):** While processes also run in parallel, creating and managing them has a higher overhead than threads. For I/O-bound tasks where threads are not blocked by the GIL, the lower overhead of threads makes them a better choice.\n",
    "\n",
    "**Note:** In some environments, especially containerized or virtualized ones, the cost of creating processes can be very high, leading to a much longer execution time for the process scheduler, as observed in the previous run."
   ]
  },
  {
   "cell_type": "markdown",
   "id": "f7e0f24e",
   "metadata": {},
   "source": [
    "---\n",
    "\n",
    "## 8. Key Takeaways\n",
    "\n",
    "- **Threads vs Processes**: Threads share memory and GIL; processes have independent memory and GIL.\n",
    "- **GIL**: Restricts threads from executing Python bytecode in parallel for CPU-bound tasks.\n",
    "- **Use threads** for I/O-bound tasks or GIL-releasing libraries (e.g., NumPy).\n",
    "- **Use processes** for pure-Python CPU-bound code to leverage multiple cores.\n"
   ]
  }
 ],
 "metadata": {
  "jupytext": {
   "formats": "ipynb,md",
   "main_language": "python",
   "notebook_metadata_filter": "text_representation"
  },
  "kernelspec": {
   "display_name": "pythonhpc",
   "language": "python",
   "name": "python3"
  },
  "language_info": {
   "codemirror_mode": {
    "name": "ipython",
    "version": 3
   },
   "file_extension": ".py",
   "mimetype": "text/x-python",
   "name": "python",
   "nbconvert_exporter": "python",
   "pygments_lexer": "ipython3",
   "version": "3.12.11"
  },
  "text_representation": {
   "extension": ".md",
   "format_name": "markdown",
   "format_version": "1.1",
   "jupytext_version": "1.14.1"
  }
 },
 "nbformat": 4,
 "nbformat_minor": 5
}
